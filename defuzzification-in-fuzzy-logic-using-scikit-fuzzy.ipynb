{
 "cells": [
  {
   "cell_type": "markdown",
   "id": "50722d6f",
   "metadata": {
    "papermill": {
     "duration": 0.004435,
     "end_time": "2025-09-24T05:58:02.548492",
     "exception": false,
     "start_time": "2025-09-24T05:58:02.544057",
     "status": "completed"
    },
    "tags": []
   },
   "source": [
    "**Defuzzification** is the process of converting a fuzzy set (with degrees of membership) into a single crisp output.\n",
    "We use scikit-fuzzy to demonstrate different defuzzification methods on a trapezoidal membership function."
   ]
  },
  {
   "cell_type": "code",
   "execution_count": 1,
   "id": "a7af2ab9",
   "metadata": {
    "_cell_guid": "b1076dfc-b9ad-4769-8c92-a6c4dae69d19",
    "_uuid": "8f2839f25d086af736a60e9eeb907d3b93b6e0e5",
    "execution": {
     "iopub.execute_input": "2025-09-24T05:58:02.558167Z",
     "iopub.status.busy": "2025-09-24T05:58:02.557786Z",
     "iopub.status.idle": "2025-09-24T05:58:04.608604Z",
     "shell.execute_reply": "2025-09-24T05:58:04.607622Z"
    },
    "papermill": {
     "duration": 2.057938,
     "end_time": "2025-09-24T05:58:04.610378",
     "exception": false,
     "start_time": "2025-09-24T05:58:02.552440",
     "status": "completed"
    },
    "tags": []
   },
   "outputs": [
    {
     "name": "stdout",
     "output_type": "stream",
     "text": [
      "/kaggle/input/skfuzzy/req.txt\n"
     ]
    }
   ],
   "source": [
    "# This Python 3 environment comes with many helpful analytics libraries installed\n",
    "# It is defined by the kaggle/python Docker image: https://github.com/kaggle/docker-python\n",
    "# For example, here's several helpful packages to load\n",
    "\n",
    "import numpy as np # linear algebra\n",
    "import pandas as pd # data processing, CSV file I/O (e.g. pd.read_csv)\n",
    "\n",
    "# Input data files are available in the read-only \"../input/\" directory\n",
    "# For example, running this (by clicking run or pressing Shift+Enter) will list all files under the input directory\n",
    "\n",
    "import os\n",
    "for dirname, _, filenames in os.walk('/kaggle/input'):\n",
    "    for filename in filenames:\n",
    "        print(os.path.join(dirname, filename))\n",
    "\n",
    "# You can write up to 20GB to the current directory (/kaggle/working/) that gets preserved as output when you create a version using \"Save & Run All\" \n",
    "# You can also write temporary files to /kaggle/temp/, but they won't be saved outside of the current session"
   ]
  },
  {
   "cell_type": "code",
   "execution_count": 2,
   "id": "e31d5ba0",
   "metadata": {
    "execution": {
     "iopub.execute_input": "2025-09-24T05:58:04.619901Z",
     "iopub.status.busy": "2025-09-24T05:58:04.619276Z",
     "iopub.status.idle": "2025-09-24T05:58:10.402750Z",
     "shell.execute_reply": "2025-09-24T05:58:10.401655Z"
    },
    "papermill": {
     "duration": 5.790178,
     "end_time": "2025-09-24T05:58:10.404571",
     "exception": false,
     "start_time": "2025-09-24T05:58:04.614393",
     "status": "completed"
    },
    "tags": []
   },
   "outputs": [
    {
     "name": "stdout",
     "output_type": "stream",
     "text": [
      "Collecting scikit-fuzzy\r\n",
      "  Downloading scikit_fuzzy-0.5.0-py2.py3-none-any.whl.metadata (2.6 kB)\r\n",
      "Downloading scikit_fuzzy-0.5.0-py2.py3-none-any.whl (920 kB)\r\n",
      "\u001b[2K   \u001b[90m━━━━━━━━━━━━━━━━━━━━━━━━━━━━━━━━━━━━━━━━\u001b[0m \u001b[32m920.8/920.8 kB\u001b[0m \u001b[31m12.0 MB/s\u001b[0m eta \u001b[36m0:00:00\u001b[0m\r\n",
      "\u001b[?25hInstalling collected packages: scikit-fuzzy\r\n",
      "Successfully installed scikit-fuzzy-0.5.0\r\n"
     ]
    }
   ],
   "source": [
    "!pip install -U scikit-fuzzy"
   ]
  },
  {
   "cell_type": "markdown",
   "id": "ed915634",
   "metadata": {
    "papermill": {
     "duration": 0.003843,
     "end_time": "2025-09-24T05:58:10.412718",
     "exception": false,
     "start_time": "2025-09-24T05:58:10.408875",
     "status": "completed"
    },
    "tags": []
   },
   "source": [
    "# Import Required Libraries"
   ]
  },
  {
   "cell_type": "code",
   "execution_count": 3,
   "id": "15fa4776",
   "metadata": {
    "execution": {
     "iopub.execute_input": "2025-09-24T05:58:10.422207Z",
     "iopub.status.busy": "2025-09-24T05:58:10.421850Z",
     "iopub.status.idle": "2025-09-24T05:58:11.174431Z",
     "shell.execute_reply": "2025-09-24T05:58:11.173458Z"
    },
    "papermill": {
     "duration": 0.759921,
     "end_time": "2025-09-24T05:58:11.176519",
     "exception": false,
     "start_time": "2025-09-24T05:58:10.416598",
     "status": "completed"
    },
    "tags": []
   },
   "outputs": [],
   "source": [
    "import matplotlib.pyplot as plt\n",
    "import skfuzzy as fuzz"
   ]
  },
  {
   "cell_type": "markdown",
   "id": "ea3045cf",
   "metadata": {
    "papermill": {
     "duration": 0.00379,
     "end_time": "2025-09-24T05:58:11.184708",
     "exception": false,
     "start_time": "2025-09-24T05:58:11.180918",
     "status": "completed"
    },
    "tags": []
   },
   "source": [
    "# Define the Universe of Discourse"
   ]
  },
  {
   "cell_type": "markdown",
   "id": "f35b65a9",
   "metadata": {
    "papermill": {
     "duration": 0.00364,
     "end_time": "2025-09-24T05:58:11.192401",
     "exception": false,
     "start_time": "2025-09-24T05:58:11.188761",
     "status": "completed"
    },
    "tags": []
   },
   "source": [
    "The *universe of discourse* is the range of values over which the membership function is defined."
   ]
  },
  {
   "cell_type": "code",
   "execution_count": 4,
   "id": "ee82a18d",
   "metadata": {
    "execution": {
     "iopub.execute_input": "2025-09-24T05:58:11.201472Z",
     "iopub.status.busy": "2025-09-24T05:58:11.201038Z",
     "iopub.status.idle": "2025-09-24T05:58:11.205796Z",
     "shell.execute_reply": "2025-09-24T05:58:11.204932Z"
    },
    "papermill": {
     "duration": 0.011152,
     "end_time": "2025-09-24T05:58:11.207409",
     "exception": false,
     "start_time": "2025-09-24T05:58:11.196257",
     "status": "completed"
    },
    "tags": []
   },
   "outputs": [],
   "source": [
    "# Create trapezoidal membership function\n",
    "x = np.arange(0, 5.05, 0.1)"
   ]
  },
  {
   "cell_type": "markdown",
   "id": "66b28bd4",
   "metadata": {
    "papermill": {
     "duration": 0.00367,
     "end_time": "2025-09-24T05:58:11.216211",
     "exception": false,
     "start_time": "2025-09-24T05:58:11.212541",
     "status": "completed"
    },
    "tags": []
   },
   "source": [
    "# Create a Trapezoidal Membership Function"
   ]
  },
  {
   "cell_type": "markdown",
   "id": "d441681b",
   "metadata": {
    "papermill": {
     "duration": 0.003721,
     "end_time": "2025-09-24T05:58:11.223839",
     "exception": false,
     "start_time": "2025-09-24T05:58:11.220118",
     "status": "completed"
    },
    "tags": []
   },
   "source": [
    "A trapezoidal membership function (`trapmf`) is defined by four parameters `[a, b, c, d]`.\n",
    "It increases linearly from `a` to `b`, stays at 1 between `b` and `c`, and decreases linearly from `c` to `d`."
   ]
  },
  {
   "cell_type": "code",
   "execution_count": 5,
   "id": "3ee56dbd",
   "metadata": {
    "execution": {
     "iopub.execute_input": "2025-09-24T05:58:11.232709Z",
     "iopub.status.busy": "2025-09-24T05:58:11.232370Z",
     "iopub.status.idle": "2025-09-24T05:58:11.238789Z",
     "shell.execute_reply": "2025-09-24T05:58:11.237979Z"
    },
    "papermill": {
     "duration": 0.012381,
     "end_time": "2025-09-24T05:58:11.240086",
     "exception": false,
     "start_time": "2025-09-24T05:58:11.227705",
     "status": "completed"
    },
    "tags": []
   },
   "outputs": [],
   "source": [
    "mfx = fuzz.trapmf(x,[2, 2.5, 3, 4.5])"
   ]
  },
  {
   "cell_type": "markdown",
   "id": "9147ec7b",
   "metadata": {
    "papermill": {
     "duration": 0.003753,
     "end_time": "2025-09-24T05:58:11.248029",
     "exception": false,
     "start_time": "2025-09-24T05:58:11.244276",
     "status": "completed"
    },
    "tags": []
   },
   "source": [
    "# Apply Different Defuzzification Methods"
   ]
  },
  {
   "cell_type": "markdown",
   "id": "10c4d118",
   "metadata": {
    "papermill": {
     "duration": 0.00361,
     "end_time": "2025-09-24T05:58:11.255607",
     "exception": false,
     "start_time": "2025-09-24T05:58:11.251997",
     "status": "completed"
    },
    "tags": []
   },
   "source": [
    "`skfuzzy.defuzz` allows several defuzzification strategies:\n",
    "* **centroid** → Center of gravity\n",
    "* **bisector** → Vertical line that divides area into two equal halves\n",
    "* **mom** → Mean of maximum (average of maxima locations)\n",
    "* **som** → Smallest of maximum (left-most maximum)\n",
    "* **lom** → Largest of maximum (right-most maximum)"
   ]
  },
  {
   "cell_type": "code",
   "execution_count": 6,
   "id": "f72e2973",
   "metadata": {
    "execution": {
     "iopub.execute_input": "2025-09-24T05:58:11.264838Z",
     "iopub.status.busy": "2025-09-24T05:58:11.264328Z",
     "iopub.status.idle": "2025-09-24T05:58:11.270664Z",
     "shell.execute_reply": "2025-09-24T05:58:11.269694Z"
    },
    "papermill": {
     "duration": 0.012757,
     "end_time": "2025-09-24T05:58:11.272242",
     "exception": false,
     "start_time": "2025-09-24T05:58:11.259485",
     "status": "completed"
    },
    "tags": []
   },
   "outputs": [],
   "source": [
    "# Defuzzify this membership function five ways\n",
    "defuzz_centroid = fuzz.defuzz(x, mfx, 'centroid')  # Same as skfuzzy.centroid\n",
    "defuzz_bisector = fuzz.defuzz(x, mfx, 'bisector')\n",
    "defuzz_mom = fuzz.defuzz(x, mfx, 'mom')\n",
    "defuzz_som = fuzz.defuzz(x, mfx, 'som')\n",
    "defuzz_lom = fuzz.defuzz(x, mfx, 'lom')"
   ]
  },
  {
   "cell_type": "markdown",
   "id": "f762f2ff",
   "metadata": {
    "papermill": {
     "duration": 0.003686,
     "end_time": "2025-09-24T05:58:11.279884",
     "exception": false,
     "start_time": "2025-09-24T05:58:11.276198",
     "status": "completed"
    },
    "tags": []
   },
   "source": [
    "# Prepare Data for Plotting"
   ]
  },
  {
   "cell_type": "markdown",
   "id": "11aa5576",
   "metadata": {
    "papermill": {
     "duration": 0.003636,
     "end_time": "2025-09-24T05:58:11.287437",
     "exception": false,
     "start_time": "2025-09-24T05:58:11.283801",
     "status": "completed"
    },
    "tags": []
   },
   "source": [
    "We collect the crisp values and their corresponding membership degrees to plot vertical lines."
   ]
  },
  {
   "cell_type": "code",
   "execution_count": 7,
   "id": "9e14d495",
   "metadata": {
    "execution": {
     "iopub.execute_input": "2025-09-24T05:58:11.296476Z",
     "iopub.status.busy": "2025-09-24T05:58:11.296149Z",
     "iopub.status.idle": "2025-09-24T05:58:11.301951Z",
     "shell.execute_reply": "2025-09-24T05:58:11.300872Z"
    },
    "papermill": {
     "duration": 0.012435,
     "end_time": "2025-09-24T05:58:11.303758",
     "exception": false,
     "start_time": "2025-09-24T05:58:11.291323",
     "status": "completed"
    },
    "tags": []
   },
   "outputs": [],
   "source": [
    "# Collect info for vertical lines\n",
    "labels = ['centroid', 'bisector', 'mean of maximum', 'min of maximum',\n",
    "          'max of maximum']\n",
    "xvals = [defuzz_centroid,\n",
    "         defuzz_bisector,\n",
    "         defuzz_mom,\n",
    "         defuzz_som,\n",
    "         defuzz_lom]\n",
    "colors = ['r', 'b', 'g', 'c', 'm']\n",
    "\n",
    "# Get membership values for each crisp point\n",
    "ymax = [fuzz.interp_membership(x, mfx, i) for i in xvals]"
   ]
  },
  {
   "cell_type": "markdown",
   "id": "90e10e99",
   "metadata": {
    "papermill": {
     "duration": 0.003552,
     "end_time": "2025-09-24T05:58:11.311330",
     "exception": false,
     "start_time": "2025-09-24T05:58:11.307778",
     "status": "completed"
    },
    "tags": []
   },
   "source": [
    "# Visualize Membership Function & Defuzzification Results"
   ]
  },
  {
   "cell_type": "markdown",
   "id": "10e99fbc",
   "metadata": {
    "papermill": {
     "duration": 0.003534,
     "end_time": "2025-09-24T05:58:11.318580",
     "exception": false,
     "start_time": "2025-09-24T05:58:11.315046",
     "status": "completed"
    },
    "tags": []
   },
   "source": [
    "Each defuzzification method is shown as a vertical line on the trapezoidal function."
   ]
  },
  {
   "cell_type": "code",
   "execution_count": 8,
   "id": "7b66a59c",
   "metadata": {
    "execution": {
     "iopub.execute_input": "2025-09-24T05:58:11.328105Z",
     "iopub.status.busy": "2025-09-24T05:58:11.327743Z",
     "iopub.status.idle": "2025-09-24T05:58:11.756455Z",
     "shell.execute_reply": "2025-09-24T05:58:11.755320Z"
    },
    "papermill": {
     "duration": 0.43593,
     "end_time": "2025-09-24T05:58:11.758363",
     "exception": false,
     "start_time": "2025-09-24T05:58:11.322433",
     "status": "completed"
    },
    "tags": []
   },
   "outputs": [
    {
     "data": {
      "image/png": "[encoded data removed]",
      "text/plain": [
       "<Figure size 1200x800 with 1 Axes>"
      ]
     },
     "metadata": {},
     "output_type": "display_data"
    }
   ],
   "source": [
    "# Plot membership function\n",
    "plt.figure(figsize=(12, 8))\n",
    "plt.plot(x, mfx, 'k', linewidth=2, label='Trapezoidal MF')\n",
    "\n",
    "# Plot vertical lines for each defuzzification method\n",
    "for xv, y, label, color in zip(xvals, ymax, labels, colors):\n",
    "    plt.vlines(xv, 0, y, label=label, color=color)\n",
    "\n",
    "# Customize plot\n",
    "plt.title(\"Defuzzification Methods on Trapezoidal MF\", fontsize=14)\n",
    "plt.ylabel(\"Fuzzy Membership Degree\")\n",
    "plt.xlabel(\"Universe Variable\")\n",
    "plt.ylim(-0.1, 1.1)\n",
    "plt.legend(loc=\"upper left\")\n",
    "plt.grid(True)\n",
    "\n",
    "plt.show()"
   ]
  },
  {
   "cell_type": "markdown",
   "id": "fc7a3991",
   "metadata": {
    "papermill": {
     "duration": 0.004769,
     "end_time": "2025-09-24T05:58:11.768445",
     "exception": false,
     "start_time": "2025-09-24T05:58:11.763676",
     "status": "completed"
    },
    "tags": []
   },
   "source": [
    "# Output"
   ]
  },
  {
   "cell_type": "markdown",
   "id": "4dcf08b5",
   "metadata": {
    "papermill": {
     "duration": 0.004688,
     "end_time": "2025-09-24T05:58:11.777987",
     "exception": false,
     "start_time": "2025-09-24T05:58:11.773299",
     "status": "completed"
    },
    "tags": []
   },
   "source": [
    "* You’ll see the trapezoidal membership function in black.\n",
    "\n",
    "* Vertical colored lines represent different crisp values obtained by various defuzzification strategies."
   ]
  }
 ],
 "metadata": {
  "kaggle": {
   "accelerator": "none",
   "dataSources": [
    {
     "datasetId": 2574402,
     "sourceId": 4384166,
     "sourceType": "datasetVersion"
    }
   ],
   "dockerImageVersionId": 31089,
   "isGpuEnabled": false,
   "isInternetEnabled": true,
   "language": "python",
   "sourceType": "notebook"
  },
  "kernelspec": {
   "display_name": "Python 3",
   "language": "python",
   "name": "python3"
  },
  "language_info": {
   "codemirror_mode": {
    "name": "ipython",
    "version": 3
   },
   "file_extension": ".py",
   "mimetype": "text/x-python",
   "name": "python",
   "nbconvert_exporter": "python",
   "pygments_lexer": "ipython3",
   "version": "3.11.13"
  },
  "papermill": {
   "default_parameters": {},
   "duration": 15.854527,
   "end_time": "2025-09-24T05:58:12.404709",
   "environment_variables": {},
   "exception": null,
   "input_path": "__notebook__.ipynb",
   "output_path": "__notebook__.ipynb",
   "parameters": {},
   "start_time": "2025-09-24T05:57:56.550182",
   "version": "2.6.0"
  }
 },
 "nbformat": 4,
 "nbformat_minor": 5
}
